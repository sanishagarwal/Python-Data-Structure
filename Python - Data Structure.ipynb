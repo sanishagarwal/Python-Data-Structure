{
 "cells": [
  {
   "cell_type": "markdown",
   "metadata": {
    "jp-MarkdownHeadingCollapsed": true,
    "tags": []
   },
   "source": [
    "# 1. Discuss string slicing and provide examples."
   ]
  },
  {
   "cell_type": "markdown",
   "metadata": {},
   "source": [
    "Ans. String slicing in Python is a technique used to extract a portion (substring) of a string. This is achieved by specifying the start and end indices of the desired substring. The general syntax for string slicing is:  \n",
    "                \n",
    "string[start : end : step]\n",
    "\n",
    "- start: The index where the slice begins (inclusive). If omitted, it defaults to the beginning of the string.\n",
    "- end: The index where the slice ends (exclusive). If omitted, it defaults to the end of the string.\n",
    "- step: The step size (optional) that determines how many characters to skip. If omitted, it defaults to 1."
   ]
  },
  {
   "cell_type": "markdown",
   "metadata": {},
   "source": [
    "Examples:    \n",
    "1. Basic Slicing:"
   ]
  },
  {
   "cell_type": "code",
   "execution_count": 1,
   "metadata": {},
   "outputs": [
    {
     "name": "stdout",
     "output_type": "stream",
     "text": [
      "Hello\n"
     ]
    }
   ],
   "source": [
    "text = \"Hello, World!\"\n",
    "print(text[0:5])  "
   ]
  },
  {
   "cell_type": "markdown",
   "metadata": {},
   "source": [
    "Here, the slice starts from index 0 and ends at index 5 (exclusive), so it returns the substring \"Hello\"."
   ]
  },
  {
   "cell_type": "markdown",
   "metadata": {},
   "source": [
    "2. Omitting Start or End:"
   ]
  },
  {
   "cell_type": "code",
   "execution_count": 2,
   "metadata": {},
   "outputs": [
    {
     "name": "stdout",
     "output_type": "stream",
     "text": [
      "Hello\n",
      "World!\n"
     ]
    }
   ],
   "source": [
    "text = \"Hello, World!\"\n",
    "print(text[:5]) \n",
    "print(text[7:]) "
   ]
  },
  {
   "cell_type": "markdown",
   "metadata": {},
   "source": [
    "- text[:5] slices from the beginning of the string to index 5 (exclusive).\n",
    "- text[7:] slices from index 7 to the end of the string."
   ]
  },
  {
   "cell_type": "markdown",
   "metadata": {},
   "source": [
    "3. Negative Indexing:"
   ]
  },
  {
   "cell_type": "code",
   "execution_count": 3,
   "metadata": {},
   "outputs": [
    {
     "name": "stdout",
     "output_type": "stream",
     "text": [
      "World!\n"
     ]
    }
   ],
   "source": [
    "text = \"Hello, World!\"\n",
    "print(text[-6:])  "
   ]
  },
  {
   "cell_type": "markdown",
   "metadata": {},
   "source": [
    "Negative indices count from the end of the string. Here, -6 refers to the 6th character from the end, so it slices from \"World!\" onwards."
   ]
  },
  {
   "cell_type": "markdown",
   "metadata": {},
   "source": [
    "4. Step Parameter:"
   ]
  },
  {
   "cell_type": "code",
   "execution_count": 4,
   "metadata": {},
   "outputs": [
    {
     "name": "stdout",
     "output_type": "stream",
     "text": [
      "Hlo ol!\n"
     ]
    }
   ],
   "source": [
    "text = \"Hello, World!\"\n",
    "print(text[::2])  "
   ]
  },
  {
   "cell_type": "markdown",
   "metadata": {},
   "source": [
    "The step size of 2 skips every other character, resulting in \"Hlo ol!\"."
   ]
  },
  {
   "cell_type": "markdown",
   "metadata": {},
   "source": [
    "5. Reversing a String:"
   ]
  },
  {
   "cell_type": "code",
   "execution_count": 5,
   "metadata": {},
   "outputs": [
    {
     "name": "stdout",
     "output_type": "stream",
     "text": [
      "!dlroW ,olleH\n"
     ]
    }
   ],
   "source": [
    "text = \"Hello, World!\"\n",
    "print(text[::-1])  "
   ]
  },
  {
   "cell_type": "markdown",
   "metadata": {},
   "source": [
    "By setting the step size to -1, the string is reversed."
   ]
  },
  {
   "cell_type": "markdown",
   "metadata": {},
   "source": [
    "6. Slicing with Step:"
   ]
  },
  {
   "cell_type": "code",
   "execution_count": 6,
   "metadata": {},
   "outputs": [
    {
     "name": "stdout",
     "output_type": "stream",
     "text": [
      "Pto\n"
     ]
    }
   ],
   "source": [
    "text = \"Python Programming\"\n",
    "print(text[0:6:2])  "
   ]
  },
  {
   "cell_type": "markdown",
   "metadata": {},
   "source": [
    "This slices the first 6 characters with a step of 2, resulting in \"Pto\"."
   ]
  },
  {
   "cell_type": "markdown",
   "metadata": {},
   "source": [
    "Practical Use Case:    \n",
    "String slicing can be very useful in data processing, such as extracting specific parts of a string or manipulating data formats.     \n",
    "\n",
    "Example:"
   ]
  },
  {
   "cell_type": "code",
   "execution_count": 7,
   "metadata": {},
   "outputs": [
    {
     "name": "stdout",
     "output_type": "stream",
     "text": [
      "Year: 2024, Month: 09, Day: 02\n"
     ]
    }
   ],
   "source": [
    "date = \"2024-09-02\"\n",
    "year = date[:4]\n",
    "month = date[5:7]\n",
    "day = date[8:]\n",
    "\n",
    "print(f\"Year: {year}, Month: {month}, Day: {day}\")\n"
   ]
  },
  {
   "cell_type": "markdown",
   "metadata": {
    "jp-MarkdownHeadingCollapsed": true,
    "tags": []
   },
   "source": [
    "# 2. Explain the key features of lists in Python."
   ]
  },
  {
   "cell_type": "markdown",
   "metadata": {},
   "source": [
    "Ans. A list in Python is an ordered, mutable collection that can store elements of different data types.     \n",
    "Lists in Python are one of the most commonly used data structures due to their versatility and ease of use. Here are the key features of lists in Python:"
   ]
  },
  {
   "cell_type": "markdown",
   "metadata": {},
   "source": [
    "1. Ordered Collection:   \n",
    "Lists maintain the order of elements as they are inserted. This means that the order in which you add items to the list is preserved, and you can access elements using their index.     \n",
    "Example:"
   ]
  },
  {
   "cell_type": "code",
   "execution_count": 1,
   "metadata": {},
   "outputs": [
    {
     "name": "stdout",
     "output_type": "stream",
     "text": [
      "banana\n"
     ]
    }
   ],
   "source": [
    "fruits = [\"apple\", \"banana\", \"cherry\"]\n",
    "print(fruits[1])  "
   ]
  },
  {
   "cell_type": "markdown",
   "metadata": {},
   "source": [
    "2. Mutable:    \n",
    "Lists are mutable, meaning you can modify them after creation. You can change, add, or remove elements.    \n",
    "Example:"
   ]
  },
  {
   "cell_type": "code",
   "execution_count": 4,
   "metadata": {},
   "outputs": [
    {
     "name": "stdout",
     "output_type": "stream",
     "text": [
      "['apple', 'orange', 'cherry']\n"
     ]
    }
   ],
   "source": [
    "fruits = [\"apple\", \"banana\", \"cherry\"]\n",
    "fruits[1] = \"orange\" #banana changed with orange\n",
    "print(fruits)  "
   ]
  },
  {
   "cell_type": "markdown",
   "metadata": {},
   "source": [
    "3. Heterogeneous Elements:    \n",
    "A list can contain elements of different data types, such as integers, strings, and even other lists (nested lists).     \n",
    "Example:"
   ]
  },
  {
   "cell_type": "code",
   "execution_count": 3,
   "metadata": {},
   "outputs": [
    {
     "name": "stdout",
     "output_type": "stream",
     "text": [
      "[1, 'apple', 3.14, [2, 4, 6]]\n"
     ]
    }
   ],
   "source": [
    "mixed_list = [1, \"apple\", 3.14, [2, 4, 6]]\n",
    "print(mixed_list) "
   ]
  },
  {
   "cell_type": "markdown",
   "metadata": {},
   "source": [
    "4. Dynamic Size:    \n",
    "Lists can grow and shrink dynamically. You don't need to define the size of the list beforehand, and you can add or remove elements at any time.    \n",
    "Example:"
   ]
  },
  {
   "cell_type": "code",
   "execution_count": 5,
   "metadata": {},
   "outputs": [
    {
     "name": "stdout",
     "output_type": "stream",
     "text": [
      "[1, 2, 3, 4]\n"
     ]
    }
   ],
   "source": [
    "numbers = [1, 2, 3]\n",
    "numbers.append(4)\n",
    "print(numbers) "
   ]
  },
  {
   "cell_type": "markdown",
   "metadata": {},
   "source": [
    "5. Supports Indexing and Slicing:    \n",
    "You can access individual elements of a list using indexing, and you can extract sublists using slicing.      \n",
    "Example:"
   ]
  },
  {
   "cell_type": "code",
   "execution_count": 6,
   "metadata": {},
   "outputs": [
    {
     "name": "stdout",
     "output_type": "stream",
     "text": [
      "c\n",
      "['b', 'c', 'd']\n"
     ]
    }
   ],
   "source": [
    "letters = [\"a\", \"b\", \"c\", \"d\", \"e\"]\n",
    "print(letters[2])      \n",
    "print(letters[1:4])    "
   ]
  },
  {
   "cell_type": "markdown",
   "metadata": {},
   "source": [
    "6. Multiple Methods for List Manipulation:    \n",
    "Python provides several built-in methods to manipulate lists, such as append(), extend(), insert(), remove(), pop(), sort(), and more.   \n",
    "Example:"
   ]
  },
  {
   "cell_type": "code",
   "execution_count": 7,
   "metadata": {},
   "outputs": [
    {
     "name": "stdout",
     "output_type": "stream",
     "text": [
      "[1, 1, 3, 4, 5]\n"
     ]
    }
   ],
   "source": [
    "numbers = [3, 1, 4, 1, 5]\n",
    "numbers.sort()\n",
    "print(numbers) "
   ]
  },
  {
   "cell_type": "markdown",
   "metadata": {},
   "source": [
    "7. Iterable:    \n",
    "Lists are iterable, which means you can loop through them using loops, like for loops.     \n",
    "Example:"
   ]
  },
  {
   "cell_type": "code",
   "execution_count": 8,
   "metadata": {},
   "outputs": [
    {
     "name": "stdout",
     "output_type": "stream",
     "text": [
      "apple\n",
      "banana\n",
      "cherry\n"
     ]
    }
   ],
   "source": [
    "for fruit in [\"apple\", \"banana\", \"cherry\"]:\n",
    "    print(fruit)"
   ]
  },
  {
   "cell_type": "markdown",
   "metadata": {},
   "source": [
    "8. Nested Lists:               \n",
    "Lists can contain other lists, enabling you to create complex data structures like matrices.         \n",
    "Example:"
   ]
  },
  {
   "cell_type": "code",
   "execution_count": 9,
   "metadata": {},
   "outputs": [
    {
     "name": "stdout",
     "output_type": "stream",
     "text": [
      "6\n"
     ]
    }
   ],
   "source": [
    "matrix = [[1, 2, 3], [4, 5, 6], [7, 8, 9]]\n",
    "print(matrix[1][2])  "
   ]
  },
  {
   "cell_type": "markdown",
   "metadata": {},
   "source": [
    "9. Supports List Comprehensions:                   \n",
    "Python lists support list comprehensions, which provide a concise way to create lists.               \n",
    "Example:"
   ]
  },
  {
   "cell_type": "code",
   "execution_count": 10,
   "metadata": {},
   "outputs": [
    {
     "name": "stdout",
     "output_type": "stream",
     "text": [
      "[0, 1, 4, 9, 16]\n"
     ]
    }
   ],
   "source": [
    "squares = [x**2 for x in range(5)]\n",
    "print(squares)  "
   ]
  },
  {
   "cell_type": "markdown",
   "metadata": {},
   "source": [
    "10. Memory Efficient:          \n",
    "Lists are memory efficient, especially for small collections of data. Python optimizes the memory allocation for lists dynamically as they grow or shrink."
   ]
  },
  {
   "cell_type": "markdown",
   "metadata": {},
   "source": [
    "11. Can Be Used as a Stack or Queue:       \n",
    "Lists can function as stacks (using append() and pop()) or queues (using append() and pop(0)).              \n",
    "Example (Stack):"
   ]
  },
  {
   "cell_type": "code",
   "execution_count": 11,
   "metadata": {},
   "outputs": [
    {
     "name": "stdout",
     "output_type": "stream",
     "text": [
      "2\n"
     ]
    }
   ],
   "source": [
    "stack = []\n",
    "stack.append(1)\n",
    "stack.append(2)\n",
    "print(stack.pop())  "
   ]
  },
  {
   "cell_type": "markdown",
   "metadata": {},
   "source": [
    "    Example (Queue):"
   ]
  },
  {
   "cell_type": "code",
   "execution_count": 12,
   "metadata": {},
   "outputs": [
    {
     "name": "stdout",
     "output_type": "stream",
     "text": [
      "1\n"
     ]
    }
   ],
   "source": [
    "queue = [1, 2, 3]\n",
    "print(queue.pop(0))  "
   ]
  },
  {
   "cell_type": "markdown",
   "metadata": {},
   "source": [
    "12. List Copying:          \n",
    "Lists can be shallow copied using slicing or the copy() method, but for deep copies, you need to use the copy module's deepcopy() function.        \n",
    "Example:"
   ]
  },
  {
   "cell_type": "markdown",
   "metadata": {
    "jp-MarkdownHeadingCollapsed": true,
    "tags": []
   },
   "source": [
    "# 3. Describe how to access, modify, and delete elements in a list with examples."
   ]
  },
  {
   "cell_type": "markdown",
   "metadata": {},
   "source": [
    "1. Accessing Elements in a List:     \n",
    "You can access elements in a list using their index. Python uses zero-based indexing, so the first element is at index 0.    \n",
    "\n",
    "    Example:"
   ]
  },
  {
   "cell_type": "code",
   "execution_count": 17,
   "metadata": {},
   "outputs": [
    {
     "name": "stdout",
     "output_type": "stream",
     "text": [
      "apple\n",
      "cherry\n"
     ]
    }
   ],
   "source": [
    "fruits = [\"apple\", \"banana\", \"cherry\"]\n",
    "print(fruits[0])  \n",
    "print(fruits[2])  "
   ]
  },
  {
   "cell_type": "markdown",
   "metadata": {},
   "source": [
    "- Negative indexing can be used to access elements from the end of the list."
   ]
  },
  {
   "cell_type": "code",
   "execution_count": 19,
   "metadata": {},
   "outputs": [
    {
     "name": "stdout",
     "output_type": "stream",
     "text": [
      "cherry\n"
     ]
    }
   ],
   "source": [
    "print(fruits[-1])"
   ]
  },
  {
   "cell_type": "markdown",
   "metadata": {},
   "source": [
    "2. Modifying Elements in a List:       \n",
    "Lists are mutable, so you can change the value of elements by assigning a new value to a specific index.          \n",
    "\n",
    "    Example:"
   ]
  },
  {
   "cell_type": "code",
   "execution_count": 21,
   "metadata": {},
   "outputs": [
    {
     "name": "stdout",
     "output_type": "stream",
     "text": [
      "['apple', 'orange', 'cherry']\n"
     ]
    }
   ],
   "source": [
    "fruits = [\"apple\", \"banana\", \"cherry\"]\n",
    "fruits[1] = \"orange\"\n",
    "print(fruits)  "
   ]
  },
  {
   "cell_type": "markdown",
   "metadata": {},
   "source": [
    "- You can also modify multiple elements at once using slicing."
   ]
  },
  {
   "cell_type": "code",
   "execution_count": 22,
   "metadata": {},
   "outputs": [
    {
     "name": "stdout",
     "output_type": "stream",
     "text": [
      "['grape', 'mango', 'cherry']\n"
     ]
    }
   ],
   "source": [
    "fruits[0:2] = [\"grape\", \"mango\"]\n",
    "print(fruits)  "
   ]
  },
  {
   "cell_type": "markdown",
   "metadata": {},
   "source": [
    "3. Deleting Elements in a List:               \n",
    "Elements can be removed from a list using various methods.        \n",
    "\n",
    "a. Using del Statement:\n",
    "\n",
    "- Delete an element by index."
   ]
  },
  {
   "cell_type": "code",
   "execution_count": 23,
   "metadata": {},
   "outputs": [
    {
     "name": "stdout",
     "output_type": "stream",
     "text": [
      "['apple', 'cherry']\n"
     ]
    }
   ],
   "source": [
    "fruits = [\"apple\", \"banana\", \"cherry\"]\n",
    "del fruits[1]\n",
    "print(fruits)  "
   ]
  },
  {
   "cell_type": "markdown",
   "metadata": {},
   "source": [
    "- You can also delete a slice of elements."
   ]
  },
  {
   "cell_type": "code",
   "execution_count": 24,
   "metadata": {},
   "outputs": [
    {
     "name": "stdout",
     "output_type": "stream",
     "text": [
      "['cherry']\n"
     ]
    }
   ],
   "source": [
    "del fruits[0:1]\n",
    "print(fruits)  "
   ]
  },
  {
   "cell_type": "markdown",
   "metadata": {},
   "source": [
    "b. Using remove() Method:         \n",
    "- Remove the first occurrence of a specific element."
   ]
  },
  {
   "cell_type": "code",
   "execution_count": 25,
   "metadata": {},
   "outputs": [
    {
     "name": "stdout",
     "output_type": "stream",
     "text": [
      "['apple', 'cherry']\n"
     ]
    }
   ],
   "source": [
    "fruits = [\"apple\", \"banana\", \"cherry\"]\n",
    "fruits.remove(\"banana\")\n",
    "print(fruits)  "
   ]
  },
  {
   "cell_type": "markdown",
   "metadata": {},
   "source": [
    "c. Using pop() Method:      \n",
    "- Remove and return an element by index (default is the last element)."
   ]
  },
  {
   "cell_type": "code",
   "execution_count": 27,
   "metadata": {},
   "outputs": [
    {
     "name": "stdout",
     "output_type": "stream",
     "text": [
      "banana\n",
      "['apple', 'cherry']\n"
     ]
    }
   ],
   "source": [
    "fruits = [\"apple\", \"banana\", \"cherry\"]\n",
    "removed_fruit = fruits.pop(1)\n",
    "print(removed_fruit)  \n",
    "print(fruits)  "
   ]
  },
  {
   "cell_type": "markdown",
   "metadata": {},
   "source": [
    "d. Using clear() Method:              \n",
    "- Remove all elements from the list."
   ]
  },
  {
   "cell_type": "code",
   "execution_count": 28,
   "metadata": {},
   "outputs": [
    {
     "name": "stdout",
     "output_type": "stream",
     "text": [
      "[]\n"
     ]
    }
   ],
   "source": [
    "fruits = [\"apple\", \"banana\", \"cherry\"]\n",
    "fruits.clear()\n",
    "print(fruits) "
   ]
  },
  {
   "cell_type": "markdown",
   "metadata": {
    "jp-MarkdownHeadingCollapsed": true,
    "tags": []
   },
   "source": [
    "# 4. Compare and contrast tuples and lists with examples."
   ]
  },
  {
   "cell_type": "markdown",
   "metadata": {},
   "source": [
    "Ans. Tuples and lists are both sequence data types in Python, but they have distinct differences in terms of mutability, use cases, and functionality. Here's a comparison of tuples and lists:      \n",
    "\n",
    "1. Mutability\n",
    "- List:  Mutable (elements can be changed, added, or removed).\n",
    "- Tuple: Immutable (elements cannot be changed after creation).            \n",
    "Example:"
   ]
  },
  {
   "cell_type": "code",
   "execution_count": 29,
   "metadata": {},
   "outputs": [
    {
     "name": "stdout",
     "output_type": "stream",
     "text": [
      "[1, 5, 3]\n"
     ]
    }
   ],
   "source": [
    "# List\n",
    "my_list = [1, 2, 3]\n",
    "my_list[1] = 5  # Modifying the second element\n",
    "print(my_list)  "
   ]
  },
  {
   "cell_type": "code",
   "execution_count": 30,
   "metadata": {},
   "outputs": [],
   "source": [
    "# Tuple\n",
    "my_tuple = (1, 2, 3)\n",
    "# my_tuple[1] = 5  # This will raise a TypeError because tuples are immutable"
   ]
  },
  {
   "cell_type": "markdown",
   "metadata": {},
   "source": [
    "2. Syntax\n",
    "- List: Defined using square brackets [].\n",
    "- Tuple: Defined using parentheses ().           \n",
    "Example:"
   ]
  },
  {
   "cell_type": "code",
   "execution_count": 31,
   "metadata": {},
   "outputs": [],
   "source": [
    "my_list = [1, 2, 3]\n",
    "my_tuple = (1, 2, 3)"
   ]
  },
  {
   "cell_type": "markdown",
   "metadata": {},
   "source": [
    "3. Performance:\n",
    "- List: Slightly slower due to mutability and dynamic resizing.\n",
    "- Tuple: Faster because of immutability and fixed size, making them more memory-efficient.        \n",
    "Example: If you have a collection of values that won’t change, using a tuple can be more efficient."
   ]
  },
  {
   "cell_type": "markdown",
   "metadata": {},
   "source": [
    "4. Methods:\n",
    "- List: Provides various methods for modification, such as append(), remove(), pop(), extend(), and insert().\n",
    "- Tuple: Provides only two methods: count() and index() since they cannot be modified.             \n",
    "Example:"
   ]
  },
  {
   "cell_type": "code",
   "execution_count": 32,
   "metadata": {},
   "outputs": [
    {
     "name": "stdout",
     "output_type": "stream",
     "text": [
      "[1, 2, 3, 4]\n",
      "1\n"
     ]
    }
   ],
   "source": [
    "my_list = [1, 2, 3]\n",
    "my_list.append(4)  # Adds 4 to the list\n",
    "print(my_list)  \n",
    "\n",
    "my_tuple = (1, 2, 3)\n",
    "print(my_tuple.index(2))  "
   ]
  },
  {
   "cell_type": "markdown",
   "metadata": {},
   "source": [
    "5. Use Cases:\n",
    "- List: Best used when you need a collection of items that can be modified, such as in loops, dynamic arrays, or when adding/removing elements frequently.\n",
    "- Tuple: Ideal for fixed collections of items that should not change, such as storing constants, function returns, or as dictionary keys.          \n",
    "Example:"
   ]
  },
  {
   "cell_type": "code",
   "execution_count": 33,
   "metadata": {},
   "outputs": [
    {
     "name": "stdout",
     "output_type": "stream",
     "text": [
      "['apple', 'banana', 'cherry', 'orange']\n"
     ]
    }
   ],
   "source": [
    "# List: Modifiable collection of items\n",
    "shopping_list = [\"apple\", \"banana\", \"cherry\"]\n",
    "shopping_list.append(\"orange\")\n",
    "print(shopping_list)  # Output: ['apple', 'banana', 'cherry', 'orange']\n",
    "\n",
    "# Tuple: Fixed collection of items\n",
    "coordinates = (10.0, 20.0)  # x, y coordinates that should not change"
   ]
  },
  {
   "cell_type": "markdown",
   "metadata": {},
   "source": [
    "9. Iteration:\n",
    "- Both lists and tuples are iterable, meaning you can loop through their elements using a for loop.       \n",
    "Example:"
   ]
  },
  {
   "cell_type": "code",
   "execution_count": 36,
   "metadata": {},
   "outputs": [
    {
     "name": "stdout",
     "output_type": "stream",
     "text": [
      "1\n",
      "2\n",
      "3\n",
      "1\n",
      "2\n",
      "3\n"
     ]
    }
   ],
   "source": [
    "my_list = [1, 2, 3]\n",
    "my_tuple = (1, 2, 3)\n",
    "\n",
    "for item in my_list:\n",
    "    print(item)\n",
    "\n",
    "for item in my_tuple:\n",
    "    print(item)"
   ]
  },
  {
   "cell_type": "markdown",
   "metadata": {
    "jp-MarkdownHeadingCollapsed": true,
    "tags": []
   },
   "source": [
    "# 5. Describe the key features of sets and provide examples of their use.\n"
   ]
  },
  {
   "cell_type": "markdown",
   "metadata": {},
   "source": [
    "Ans. Sets in Python are an unordered collection of unique elements. They are used to store multiple items in a single variable and are particularly useful when dealing with unique items or performing mathematical set operations. Here are the key features of sets along with examples of their use:\n",
    "\n",
    "1. Unordered Collection:\n",
    "- Sets do not maintain any specific order of elements. When you print a set or iterate through it, the elements may appear in any order.\n",
    "- Example:"
   ]
  },
  {
   "cell_type": "code",
   "execution_count": 38,
   "metadata": {},
   "outputs": [
    {
     "name": "stdout",
     "output_type": "stream",
     "text": [
      "{1, 3, 4, 5}\n"
     ]
    }
   ],
   "source": [
    "my_set = {3, 1, 4, 1, 5}\n",
    "print(my_set)  "
   ]
  },
  {
   "cell_type": "markdown",
   "metadata": {},
   "source": [
    "2. Unique Elements:\n",
    "- Sets automatically eliminate duplicate values. Each element in a set is unique, and any duplicates are removed.\n",
    "- Example:"
   ]
  },
  {
   "cell_type": "code",
   "execution_count": 39,
   "metadata": {},
   "outputs": [
    {
     "name": "stdout",
     "output_type": "stream",
     "text": [
      "{1, 2, 3, 4, 5}\n"
     ]
    }
   ],
   "source": [
    "my_set = {1, 2, 2, 3, 4, 4, 5}\n",
    "print(my_set)  "
   ]
  },
  {
   "cell_type": "markdown",
   "metadata": {},
   "source": [
    "3. Mutable (but elements must be immutable):\n",
    "- Sets themselves are mutable, meaning you can add or remove elements after the set is created. However, the elements within a set must be immutable (e.g., numbers, strings, tuples).\n",
    "- Example:"
   ]
  },
  {
   "cell_type": "code",
   "execution_count": 40,
   "metadata": {},
   "outputs": [
    {
     "name": "stdout",
     "output_type": "stream",
     "text": [
      "{1, 2, 3, 4}\n"
     ]
    }
   ],
   "source": [
    "my_set = {1, 2, 3}\n",
    "my_set.add(4)\n",
    "print(my_set)  "
   ]
  },
  {
   "cell_type": "markdown",
   "metadata": {},
   "source": [
    "4. No Indexing or Slicing:\n",
    "- Since sets are unordered, they do not support indexing, slicing, or other sequence-like behavior.\n",
    "- Example:"
   ]
  },
  {
   "cell_type": "code",
   "execution_count": 41,
   "metadata": {},
   "outputs": [],
   "source": [
    "my_set = {1, 2, 3}\n",
    "# my_set[0]  # This will raise a TypeError"
   ]
  },
  {
   "cell_type": "markdown",
   "metadata": {},
   "source": [
    "5. Efficient Membership Testing:\n",
    "- Sets are optimized for fast membership testing, which allows you to check if an element exists in a set very efficiently.\n",
    "- Example:"
   ]
  },
  {
   "cell_type": "code",
   "execution_count": 42,
   "metadata": {},
   "outputs": [
    {
     "name": "stdout",
     "output_type": "stream",
     "text": [
      "True\n",
      "False\n"
     ]
    }
   ],
   "source": [
    "my_set = {1, 2, 3, 4, 5}\n",
    "print(3 in my_set)  \n",
    "print(6 in my_set)  "
   ]
  },
  {
   "cell_type": "markdown",
   "metadata": {},
   "source": [
    "6. Set Operations (Union, Intersection, Difference, Symmetric Difference):\n",
    "- Sets support standard set operations like union, intersection, difference, and symmetric difference. These operations are useful for combining or comparing sets.          \n",
    "\n",
    "a. Union (| or union()):\n",
    "- Combines all elements from two sets, removing duplicates."
   ]
  },
  {
   "cell_type": "code",
   "execution_count": 43,
   "metadata": {},
   "outputs": [
    {
     "name": "stdout",
     "output_type": "stream",
     "text": [
      "{1, 2, 3, 4, 5}\n",
      "{1, 2, 3, 4, 5}\n"
     ]
    }
   ],
   "source": [
    "set_a = {1, 2, 3}\n",
    "set_b = {3, 4, 5}\n",
    "print(set_a | set_b) \n",
    "print(set_a.union(set_b))  "
   ]
  },
  {
   "cell_type": "markdown",
   "metadata": {},
   "source": [
    "b. Intersection (& or intersection()):\n",
    "- Returns only the elements that are present in both sets."
   ]
  },
  {
   "cell_type": "code",
   "execution_count": 44,
   "metadata": {},
   "outputs": [
    {
     "name": "stdout",
     "output_type": "stream",
     "text": [
      "{3}\n",
      "{3}\n"
     ]
    }
   ],
   "source": [
    "print(set_a & set_b)  \n",
    "print(set_a.intersection(set_b))"
   ]
  },
  {
   "cell_type": "markdown",
   "metadata": {},
   "source": [
    "c. Difference (- or difference()):\n",
    "- Returns the elements that are in the first set but not in the second."
   ]
  },
  {
   "cell_type": "code",
   "execution_count": 46,
   "metadata": {},
   "outputs": [
    {
     "name": "stdout",
     "output_type": "stream",
     "text": [
      "{1, 2}\n",
      "{1, 2}\n"
     ]
    }
   ],
   "source": [
    "print(set_a - set_b)  \n",
    "print(set_a.difference(set_b))  "
   ]
  },
  {
   "cell_type": "markdown",
   "metadata": {},
   "source": [
    "d. Symmetric Difference (^ or symmetric_difference()):\n",
    "- Returns elements that are in either of the sets but not in both."
   ]
  },
  {
   "cell_type": "code",
   "execution_count": 47,
   "metadata": {},
   "outputs": [
    {
     "name": "stdout",
     "output_type": "stream",
     "text": [
      "{1, 2, 4, 5}\n",
      "{1, 2, 4, 5}\n"
     ]
    }
   ],
   "source": [
    "print(set_a ^ set_b)  \n",
    "print(set_a.symmetric_difference(set_b))  "
   ]
  },
  {
   "cell_type": "markdown",
   "metadata": {},
   "source": [
    "7. Set Methods:\n",
    "- Python sets provide various built-in methods for adding, removing, and manipulating elements.\n",
    "- Example:"
   ]
  },
  {
   "cell_type": "code",
   "execution_count": 48,
   "metadata": {},
   "outputs": [
    {
     "name": "stdout",
     "output_type": "stream",
     "text": [
      "set()\n"
     ]
    }
   ],
   "source": [
    "my_set = {1, 2, 3}\n",
    "my_set.add(4)         # Adds an element\n",
    "my_set.remove(2)      # Removes a specific element\n",
    "my_set.clear()        # Removes all elements\n",
    "print(my_set)         "
   ]
  },
  {
   "cell_type": "markdown",
   "metadata": {},
   "source": [
    "8. Frozenset (Immutable Set):\n",
    "- Python also provides an immutable version of a set called frozenset. Once created, elements cannot be added or removed from a frozenset.\n",
    "- Example:"
   ]
  },
  {
   "cell_type": "code",
   "execution_count": 49,
   "metadata": {},
   "outputs": [
    {
     "name": "stdout",
     "output_type": "stream",
     "text": [
      "frozenset({1, 2, 3})\n"
     ]
    }
   ],
   "source": [
    "frozen_set = frozenset([1, 2, 3])\n",
    "# frozen_set.add(4)  # This will raise an AttributeError\n",
    "print(frozen_set)  "
   ]
  },
  {
   "cell_type": "markdown",
   "metadata": {},
   "source": [
    "9. Use Cases for Sets:\n",
    "- Removing Duplicates: Sets are ideal for filtering out duplicate values from a collection."
   ]
  },
  {
   "cell_type": "code",
   "execution_count": 50,
   "metadata": {},
   "outputs": [
    {
     "name": "stdout",
     "output_type": "stream",
     "text": [
      "{1, 2, 3, 4, 5}\n"
     ]
    }
   ],
   "source": [
    "numbers = [1, 2, 2, 3, 4, 4, 5]\n",
    "unique_numbers = set(numbers)\n",
    "print(unique_numbers)  "
   ]
  },
  {
   "cell_type": "markdown",
   "metadata": {},
   "source": [
    "- Membership Testing: Quickly check if an item exists in a collection."
   ]
  },
  {
   "cell_type": "code",
   "execution_count": 51,
   "metadata": {},
   "outputs": [
    {
     "name": "stdout",
     "output_type": "stream",
     "text": [
      "Access granted\n"
     ]
    }
   ],
   "source": [
    "allowed_users = {\"Alice\", \"Bob\", \"Charlie\"}\n",
    "if \"Alice\" in allowed_users:\n",
    "    print(\"Access granted\")"
   ]
  },
  {
   "cell_type": "markdown",
   "metadata": {},
   "source": [
    "- Set Operations: Useful in scenarios like finding common items between lists (intersection) or combining different collections without duplicates (union)."
   ]
  },
  {
   "cell_type": "code",
   "execution_count": 52,
   "metadata": {},
   "outputs": [
    {
     "name": "stdout",
     "output_type": "stream",
     "text": [
      "{'Bob'}\n"
     ]
    }
   ],
   "source": [
    "engineers = {\"Alice\", \"Bob\", \"Charlie\"}\n",
    "managers = {\"Bob\", \"David\"}\n",
    "print(engineers & managers)  "
   ]
  },
  {
   "cell_type": "markdown",
   "metadata": {
    "jp-MarkdownHeadingCollapsed": true,
    "tags": []
   },
   "source": [
    "# 6. Discuss the use cases of tuples and sets on Python programming."
   ]
  },
  {
   "cell_type": "markdown",
   "metadata": {},
   "source": [
    "Ans. \n",
    "### Use Cases of Tuples in Python:            \n",
    "Tuples are immutable, ordered collections, which makes them suitable for certain situations where data should remain unchanged or where the order of elements matters. Here are some common use cases:\n",
    "\n",
    "1. Storing Fixed Collections of Data:\n",
    "- Tuples are ideal for storing a fixed set of values that should not change throughout the program's execution. Examples include geographical coordinates, RGB color values, or fixed configuration settings.\n",
    "- Example: "
   ]
  },
  {
   "cell_type": "code",
   "execution_count": 1,
   "metadata": {},
   "outputs": [],
   "source": [
    "coordinates = (40.7128, -74.0060)  # Latitude and longitude of New York City"
   ]
  },
  {
   "cell_type": "markdown",
   "metadata": {},
   "source": [
    "2. Returning Multiple Values from a Function:\n",
    "- Tuples are often used to return multiple values from a function. This makes it easy to return more than one result without creating a custom class or list.\n",
    "- Example:"
   ]
  },
  {
   "cell_type": "code",
   "execution_count": 2,
   "metadata": {},
   "outputs": [
    {
     "name": "stdout",
     "output_type": "stream",
     "text": [
      "(1, 5)\n"
     ]
    }
   ],
   "source": [
    "def get_min_max(numbers):\n",
    "    return min(numbers), max(numbers)\n",
    "\n",
    "result = get_min_max([3, 1, 4, 1, 5])\n",
    "print(result) "
   ]
  },
  {
   "cell_type": "markdown",
   "metadata": {},
   "source": [
    "3. Using Tuples as Dictionary Keys:\n",
    "- Since tuples are immutable, they can be used as keys in dictionaries (while lists cannot). This is useful for mapping complex data, like using a tuple of coordinates as keys.\n",
    "- Example:"
   ]
  },
  {
   "cell_type": "code",
   "execution_count": 3,
   "metadata": {},
   "outputs": [
    {
     "name": "stdout",
     "output_type": "stream",
     "text": [
      "New York City\n"
     ]
    }
   ],
   "source": [
    "location_data = {(40.7128, -74.0060): \"New York City\", (34.0522, -118.2437): \"Los Angeles\"}\n",
    "print(location_data[(40.7128, -74.0060)]) "
   ]
  },
  {
   "cell_type": "markdown",
   "metadata": {},
   "source": [
    "4. Representing Heterogeneous Data:     \n",
    "- Tuples can hold data of different types, which makes them useful for representing records or heterogeneous collections of data. For instance, a tuple can represent an employee record with a name, age, and job title.\n",
    "- Example:"
   ]
  },
  {
   "cell_type": "code",
   "execution_count": 4,
   "metadata": {},
   "outputs": [
    {
     "name": "stdout",
     "output_type": "stream",
     "text": [
      "('Alice', 30, 'Engineer')\n"
     ]
    }
   ],
   "source": [
    "employee = (\"Alice\", 30, \"Engineer\")\n",
    "print(employee)  "
   ]
  },
  {
   "cell_type": "markdown",
   "metadata": {},
   "source": [
    "5. Function Arguments Packing and Unpacking:\n",
    "- Tuples are used in packing and unpacking arguments in function calls. This is particularly useful in scenarios where the number of arguments is not fixed.\n",
    "- Example:"
   ]
  },
  {
   "cell_type": "code",
   "execution_count": 5,
   "metadata": {},
   "outputs": [
    {
     "name": "stdout",
     "output_type": "stream",
     "text": [
      "1\n",
      "2\n",
      "3\n"
     ]
    }
   ],
   "source": [
    "def print_values(*args):\n",
    "    for value in args:\n",
    "        print(value)\n",
    "\n",
    "values = (1, 2, 3)\n",
    "print_values(*values)  "
   ]
  },
  {
   "cell_type": "markdown",
   "metadata": {},
   "source": [
    "6. Data Integrity:\n",
    "- Since tuples are immutable, they ensure that the data stored in them cannot be accidentally modified. This is helpful in cases where you want to ensure data consistency.\n",
    "- Example:"
   ]
  },
  {
   "cell_type": "code",
   "execution_count": 6,
   "metadata": {},
   "outputs": [],
   "source": [
    "config = (\"localhost\", 8080)  # Immutable server configuration"
   ]
  },
  {
   "cell_type": "markdown",
   "metadata": {},
   "source": [
    "### Use Cases of Sets in Python:    \n",
    "Sets are unordered collections of unique elements. They are particularly useful in scenarios where the uniqueness of elements is important, or where mathematical set operations need to be performed. Here are common use cases:\n",
    "\n",
    "1. Removing Duplicates from a Collection:\n",
    "- Sets automatically eliminate duplicates, making them perfect for filtering out repeated elements from a list.\n",
    "- Example:"
   ]
  },
  {
   "cell_type": "code",
   "execution_count": 7,
   "metadata": {},
   "outputs": [
    {
     "name": "stdout",
     "output_type": "stream",
     "text": [
      "{1, 2, 3, 4, 5}\n"
     ]
    }
   ],
   "source": [
    "numbers = [1, 2, 2, 3, 4, 4, 5]\n",
    "unique_numbers = set(numbers)\n",
    "print(unique_numbers)  "
   ]
  },
  {
   "cell_type": "markdown",
   "metadata": {},
   "source": [
    "2. Efficient Membership Testing:\n",
    "- Sets offer fast membership testing, which makes them ideal for scenarios where you need to frequently check if an element is present in a collection.\n",
    "- Example:"
   ]
  },
  {
   "cell_type": "code",
   "execution_count": 8,
   "metadata": {},
   "outputs": [
    {
     "name": "stdout",
     "output_type": "stream",
     "text": [
      "Access granted\n"
     ]
    }
   ],
   "source": [
    "allowed_users = {\"Alice\", \"Bob\", \"Charlie\"}\n",
    "if \"Bob\" in allowed_users:\n",
    "    print(\"Access granted\")  "
   ]
  },
  {
   "cell_type": "markdown",
   "metadata": {},
   "source": [
    "3. Mathematical Set Operations:\n",
    "- Sets support standard set operations like union, intersection, difference, and symmetric difference, which are useful in various algorithms and data analysis tasks.\n",
    "- Example:"
   ]
  },
  {
   "cell_type": "code",
   "execution_count": 10,
   "metadata": {},
   "outputs": [
    {
     "name": "stdout",
     "output_type": "stream",
     "text": [
      "{3}\n",
      "{1, 2, 3, 4, 5}\n"
     ]
    }
   ],
   "source": [
    "set_a = {1, 2, 3}\n",
    "set_b = {3, 4, 5}\n",
    "print(set_a & set_b)  # Intersection\n",
    "print(set_a | set_b)  # Union"
   ]
  },
  {
   "cell_type": "markdown",
   "metadata": {},
   "source": [
    "4. Removing Elements from a Collection:\n",
    "- If you need to remove elements from a collection and you don't care about the order, sets provide a convenient and efficient way to do this.\n",
    "- Example:"
   ]
  },
  {
   "cell_type": "code",
   "execution_count": 11,
   "metadata": {},
   "outputs": [
    {
     "name": "stdout",
     "output_type": "stream",
     "text": [
      "{1, 2, 4, 5}\n"
     ]
    }
   ],
   "source": [
    "my_set = {1, 2, 3, 4, 5}\n",
    "my_set.remove(3)\n",
    "print(my_set)  "
   ]
  },
  {
   "cell_type": "markdown",
   "metadata": {},
   "source": [
    "5. Finding Unique Elements in Large Datasets:\n",
    "- Sets are particularly useful in data analysis when working with large datasets to find unique values, such as finding unique users from a list of user actions.\n",
    "- Example:"
   ]
  },
  {
   "cell_type": "code",
   "execution_count": 12,
   "metadata": {},
   "outputs": [
    {
     "name": "stdout",
     "output_type": "stream",
     "text": [
      "{'Charlie', 'Alice', 'Bob'}\n"
     ]
    }
   ],
   "source": [
    "users = [\"Alice\", \"Bob\", \"Alice\", \"Charlie\", \"Bob\"]\n",
    "unique_users = set(users)\n",
    "print(unique_users)  "
   ]
  },
  {
   "cell_type": "markdown",
   "metadata": {},
   "source": [
    "6. Working with Multiple Datasets:\n",
    "- Sets are ideal for comparing and working with multiple datasets. You can easily find common elements, differences, or unique elements across datasets.\n",
    "- Example:"
   ]
  },
  {
   "cell_type": "code",
   "execution_count": 13,
   "metadata": {},
   "outputs": [
    {
     "name": "stdout",
     "output_type": "stream",
     "text": [
      "{'banana', 'apple'}\n"
     ]
    }
   ],
   "source": [
    "set_a = {\"apple\", \"banana\", \"cherry\"}\n",
    "set_b = {\"cherry\", \"date\", \"elderberry\"}\n",
    "print(set_a.difference(set_b))  "
   ]
  },
  {
   "cell_type": "markdown",
   "metadata": {},
   "source": [
    "7. Tracking Unique Items in Real-Time Systems:\n",
    "- In systems where real-time uniqueness needs to be maintained, such as tracking unique IP addresses or unique visitors on a website, sets provide a straightforward solution.\n",
    "- Example:"
   ]
  },
  {
   "cell_type": "code",
   "execution_count": 14,
   "metadata": {},
   "outputs": [
    {
     "name": "stdout",
     "output_type": "stream",
     "text": [
      "{'192.168.1.1', '192.168.1.2'}\n"
     ]
    }
   ],
   "source": [
    "visitors = set()\n",
    "visitors.add(\"192.168.1.1\")\n",
    "visitors.add(\"192.168.1.2\")\n",
    "visitors.add(\"192.168.1.1\")  # Duplicate, won't be added again\n",
    "print(visitors) "
   ]
  },
  {
   "cell_type": "markdown",
   "metadata": {},
   "source": [
    "8. Using Frozensets for Immutable Sets:\n",
    "- When you need the characteristics of a set but with immutability (for example, as keys in a dictionary), you can use frozensets.\n",
    "- Example:"
   ]
  },
  {
   "cell_type": "code",
   "execution_count": 15,
   "metadata": {},
   "outputs": [
    {
     "name": "stdout",
     "output_type": "stream",
     "text": [
      "immutable\n"
     ]
    }
   ],
   "source": [
    "frozen_set = frozenset([1, 2, 3])\n",
    "my_dict = {frozen_set: \"immutable\"}\n",
    "print(my_dict[frozen_set])  "
   ]
  },
  {
   "cell_type": "markdown",
   "metadata": {
    "jp-MarkdownHeadingCollapsed": true,
    "tags": []
   },
   "source": [
    "# 7. Describe how to add, modify, and delete items in a dictionary with examples."
   ]
  },
  {
   "cell_type": "markdown",
   "metadata": {},
   "source": [
    "Ans.\n",
    "In Python, dictionaries are mutable collections that store key-value pairs. You can add, modify, and delete items in a dictionary using various methods. Here's a detailed explanation with examples:     \n",
    "1. Adding Items: dict[key] = value\n",
    "2. Modifying Items: dict[key] = new_value\n",
    "3. Deleting Items:      \n",
    "    a. del dict[key] (Remove specific item)      \n",
    "    b dict.pop(key) (Remove specific item and return its value)                      \n",
    "    c. dict.popitem() (Remove and return the last item)                  \n",
    "    d. dict.clear() (Remove all items)"
   ]
  },
  {
   "cell_type": "markdown",
   "metadata": {},
   "source": [
    "1. Adding Items to a Dictionary:\n",
    "- You can add items to a dictionary by simply assigning a value to a new key.\n",
    "- Example:"
   ]
  },
  {
   "cell_type": "code",
   "execution_count": 16,
   "metadata": {},
   "outputs": [
    {
     "name": "stdout",
     "output_type": "stream",
     "text": [
      "{'name': 'Alice', 'age': 25}\n"
     ]
    }
   ],
   "source": [
    "# Create an empty dictionary\n",
    "my_dict = {}\n",
    "\n",
    "# Add key-value pairs\n",
    "my_dict[\"name\"] = \"Alice\"\n",
    "my_dict[\"age\"] = 25\n",
    "\n",
    "print(my_dict)  "
   ]
  },
  {
   "cell_type": "markdown",
   "metadata": {},
   "source": [
    "2. Modifying Items in a Dictionary:\n",
    "- To modify an existing item in a dictionary, you can assign a new value to an existing key.\n",
    "- Example:"
   ]
  },
  {
   "cell_type": "code",
   "execution_count": 17,
   "metadata": {},
   "outputs": [
    {
     "name": "stdout",
     "output_type": "stream",
     "text": [
      "{'name': 'Alice', 'age': 30}\n"
     ]
    }
   ],
   "source": [
    "# Existing dictionary\n",
    "my_dict = {\"name\": \"Alice\", \"age\": 25}\n",
    "\n",
    "# Modify the value of an existing key\n",
    "my_dict[\"age\"] = 30\n",
    "\n",
    "print(my_dict)  "
   ]
  },
  {
   "cell_type": "markdown",
   "metadata": {},
   "source": [
    "3. Deleting Items from a Dictionary:     \n",
    "You can delete items from a dictionary using several methods:\n",
    "\n",
    "    a. Using del Statement:\n",
    "    - Removes a specific key-value pair\n",
    "    - Example:"
   ]
  },
  {
   "cell_type": "code",
   "execution_count": 18,
   "metadata": {},
   "outputs": [
    {
     "name": "stdout",
     "output_type": "stream",
     "text": [
      "{'name': 'Alice', 'city': 'New York'}\n"
     ]
    }
   ],
   "source": [
    "# Existing dictionary\n",
    "my_dict = {\"name\": \"Alice\", \"age\": 30, \"city\": \"New York\"}\n",
    "\n",
    "# Delete the key 'age'\n",
    "del my_dict[\"age\"]\n",
    "\n",
    "print(my_dict)  "
   ]
  },
  {
   "cell_type": "markdown",
   "metadata": {},
   "source": [
    "    b. Using pop() Method:\n",
    "    - Removes a key and returns the corresponding value."
   ]
  },
  {
   "cell_type": "code",
   "execution_count": 19,
   "metadata": {},
   "outputs": [
    {
     "name": "stdout",
     "output_type": "stream",
     "text": [
      "New York\n",
      "{'name': 'Alice', 'age': 30}\n"
     ]
    }
   ],
   "source": [
    "# Existing dictionary\n",
    "my_dict = {\"name\": \"Alice\", \"age\": 30, \"city\": \"New York\"}\n",
    "\n",
    "# Pop the key 'city' and get its value\n",
    "city = my_dict.pop(\"city\")\n",
    "\n",
    "print(city)     \n",
    "print(my_dict)   "
   ]
  },
  {
   "cell_type": "markdown",
   "metadata": {},
   "source": [
    "    c. Using popitem() Method:\n",
    "    - Removes and returns the last key-value pair from the dictionary (in Python 3.7+)."
   ]
  },
  {
   "cell_type": "code",
   "execution_count": 20,
   "metadata": {},
   "outputs": [
    {
     "name": "stdout",
     "output_type": "stream",
     "text": [
      "('age', 30)\n",
      "{'name': 'Alice'}\n"
     ]
    }
   ],
   "source": [
    "# Existing dictionary\n",
    "my_dict = {\"name\": \"Alice\", \"age\": 30}\n",
    "\n",
    "# Pop the last item\n",
    "last_item = my_dict.popitem()\n",
    "\n",
    "print(last_item)  \n",
    "print(my_dict)    "
   ]
  },
  {
   "cell_type": "markdown",
   "metadata": {},
   "source": [
    "    d. Using clear() Method:\n",
    "    - Removes all items from the dictionary, leaving it empty."
   ]
  },
  {
   "cell_type": "code",
   "execution_count": 21,
   "metadata": {},
   "outputs": [
    {
     "name": "stdout",
     "output_type": "stream",
     "text": [
      "{}\n"
     ]
    }
   ],
   "source": [
    "# Existing dictionary\n",
    "my_dict = {\"name\": \"Alice\", \"age\": 30}\n",
    "\n",
    "# Clear all items\n",
    "my_dict.clear()\n",
    "\n",
    "print(my_dict) "
   ]
  },
  {
   "cell_type": "markdown",
   "metadata": {
    "jp-MarkdownHeadingCollapsed": true,
    "tags": []
   },
   "source": [
    "# 8. Discuss the importance of dictionary keys being immutable and provide examples."
   ]
  },
  {
   "cell_type": "markdown",
   "metadata": {},
   "source": [
    "Ans. In Python, dictionary keys must be immutable. This immutability is crucial because dictionary keys must remain consistent throughout their existence to maintain the integrity and efficiency of the dictionary's operations. Here's a discussion of why dictionary keys must be immutable, along with examples:\n",
    "\n",
    "### Importance of Immutable Dictionary Keys\n",
    "1.Hashing Requirement:     \n",
    "- Python dictionaries use a hashing mechanism to store and retrieve key-value pairs efficiently. A hash function generates a unique hash value for each key, allowing the dictionary to quickly locate the corresponding value.\n",
    "- For this mechanism to work, keys must remain unchanged (immutable). If a key could change after being added to the dictionary, its hash value would also change, leading to incorrect lookups, data loss, or even runtime errors.\n",
    "2. Consistency and Integrity:\n",
    "- Immutability ensures that once a key is inserted into a dictionary, it consistently points to the same value. This consistency is essential for ensuring that the dictionary behaves predictably and that data integrity is maintained.\n",
    "3. Error Prevention:\n",
    "- Allowing mutable objects as dictionary keys could lead to subtle bugs. For example, if a list (which is mutable) were allowed as a key, modifying the list after insertion could make the key unrecognizable, leading to unexpected behavior.\n",
    "\n",
    "### Examples of Immutable and Mutable Types in Python\n",
    "- Immutable Types (Allowed as Dictionary Keys):\n",
    "    - Integers: 1, 2, -5, etc.\n",
    "    - Strings: \"apple\", \"hello\", etc.\n",
    "    - Tuples: (1, 2), (\"a\", \"b\"), etc.\n",
    "    - Frozensets: frozenset({1, 2, 3}), etc.\n",
    "- Mutable Types (Not Allowed as Dictionary Keys):\n",
    "    - Lists: [1, 2, 3]\n",
    "    - Dictionaries: {\"key\": \"value\"}\n",
    "    - Sets: {1, 2, 3}"
   ]
  },
  {
   "cell_type": "code",
   "execution_count": 23,
   "metadata": {},
   "outputs": [
    {
     "name": "stdout",
     "output_type": "stream",
     "text": [
      "Point A\n"
     ]
    }
   ],
   "source": [
    "# Example 1: Using an Immutable Key (Allowed)\n",
    "\n",
    "# Using a tuple (immutable) as a dictionary key\n",
    "my_dict = {\n",
    "    (1, 2): \"Point A\",\n",
    "    (3, 4): \"Point B\"\n",
    "}\n",
    "\n",
    "# Accessing the value using the tuple key\n",
    "print(my_dict[(1, 2)])  "
   ]
  },
  {
   "cell_type": "code",
   "execution_count": 27,
   "metadata": {},
   "outputs": [
    {
     "ename": "TypeError",
     "evalue": "unhashable type: 'list'",
     "output_type": "error",
     "traceback": [
      "\u001b[0;31m---------------------------------------------------------------------------\u001b[0m",
      "\u001b[0;31mTypeError\u001b[0m                                 Traceback (most recent call last)",
      "Cell \u001b[0;32mIn[27], line 7\u001b[0m\n\u001b[1;32m      4\u001b[0m my_list \u001b[38;5;241m=\u001b[39m [\u001b[38;5;241m1\u001b[39m, \u001b[38;5;241m2\u001b[39m, \u001b[38;5;241m3\u001b[39m]\n\u001b[1;32m      6\u001b[0m \u001b[38;5;66;03m# This will raise a TypeError\u001b[39;00m\n\u001b[0;32m----> 7\u001b[0m my_dict \u001b[38;5;241m=\u001b[39m {\n\u001b[1;32m      8\u001b[0m     my_list: \u001b[38;5;124m\"\u001b[39m\u001b[38;5;124mNumbers\u001b[39m\u001b[38;5;124m\"\u001b[39m\n\u001b[1;32m      9\u001b[0m }\n\u001b[1;32m     11\u001b[0m \u001b[38;5;66;03m# Output: TypeError: unhashable type: 'list'\u001b[39;00m\n",
      "\u001b[0;31mTypeError\u001b[0m: unhashable type: 'list'"
     ]
    }
   ],
   "source": [
    "# Example 2: Using a Mutable Key (Not Allowed)\n",
    "\n",
    "# Trying to use a list (mutable) as a dictionary key\n",
    "my_list = [1, 2, 3]\n",
    "\n",
    "# This will raise a TypeError\n",
    "my_dict = {\n",
    "    my_list: \"Numbers\"\n",
    "}\n",
    "\n",
    "# Output: TypeError: unhashable type: 'list'"
   ]
  },
  {
   "cell_type": "markdown",
   "metadata": {},
   "source": [
    "Example 3: Why Mutable Keys Would Cause Problems\n",
    "- Imagine if Python allowed mutable keys like lists:"
   ]
  },
  {
   "cell_type": "code",
   "execution_count": 28,
   "metadata": {},
   "outputs": [
    {
     "ename": "TypeError",
     "evalue": "unhashable type: 'list'",
     "output_type": "error",
     "traceback": [
      "\u001b[0;31m---------------------------------------------------------------------------\u001b[0m",
      "\u001b[0;31mTypeError\u001b[0m                                 Traceback (most recent call last)",
      "Cell \u001b[0;32mIn[28], line 2\u001b[0m\n\u001b[1;32m      1\u001b[0m \u001b[38;5;66;03m# Hypothetical scenario where lists are allowed as keys\u001b[39;00m\n\u001b[0;32m----> 2\u001b[0m my_dict \u001b[38;5;241m=\u001b[39m {[\u001b[38;5;241m1\u001b[39m, \u001b[38;5;241m2\u001b[39m]: \u001b[38;5;124m\"\u001b[39m\u001b[38;5;124mPoint A\u001b[39m\u001b[38;5;124m\"\u001b[39m}\n\u001b[1;32m      4\u001b[0m \u001b[38;5;66;03m# If we modify the key after adding it to the dictionary\u001b[39;00m\n\u001b[1;32m      5\u001b[0m my_key \u001b[38;5;241m=\u001b[39m [\u001b[38;5;241m1\u001b[39m, \u001b[38;5;241m2\u001b[39m]\n",
      "\u001b[0;31mTypeError\u001b[0m: unhashable type: 'list'"
     ]
    }
   ],
   "source": [
    "# Hypothetical scenario where lists are allowed as keys\n",
    "my_dict = {[1, 2]: \"Point A\"}\n",
    "\n",
    "# If we modify the key after adding it to the dictionary\n",
    "my_key = [1, 2]\n",
    "my_dict[my_key] = \"Point A\"\n",
    "\n",
    "# Modifying the list (key)\n",
    "my_key.append(3)\n",
    "\n",
    "# Now, the key has changed, and the dictionary lookup will fail\n",
    "print(my_dict[my_key])  # Would not work as expected"
   ]
  },
  {
   "cell_type": "markdown",
   "metadata": {},
   "source": [
    "### If Python allowed such operations, it would make dictionary lookups unreliable, as the key's identity would change."
   ]
  },
  {
   "cell_type": "code",
   "execution_count": null,
   "metadata": {},
   "outputs": [],
   "source": []
  }
 ],
 "metadata": {
  "kernelspec": {
   "display_name": "Python 3 (ipykernel)",
   "language": "python",
   "name": "python3"
  },
  "language_info": {
   "codemirror_mode": {
    "name": "ipython",
    "version": 3
   },
   "file_extension": ".py",
   "mimetype": "text/x-python",
   "name": "python",
   "nbconvert_exporter": "python",
   "pygments_lexer": "ipython3",
   "version": "3.10.8"
  }
 },
 "nbformat": 4,
 "nbformat_minor": 4
}
